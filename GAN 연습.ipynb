{
  "nbformat": 4,
  "nbformat_minor": 0,
  "metadata": {
    "colab": {
      "provenance": [],
      "mount_file_id": "1T4vJmG2ExX9tISlb2A9KXitLIdF4E_-y",
      "authorship_tag": "ABX9TyPU62kDCyhMUvuOsGFN/yEP",
      "include_colab_link": true
    },
    "kernelspec": {
      "name": "python3",
      "display_name": "Python 3"
    },
    "language_info": {
      "name": "python"
    }
  },
  "cells": [
    {
      "cell_type": "markdown",
      "metadata": {
        "id": "view-in-github",
        "colab_type": "text"
      },
      "source": [
        "<a href=\"https://colab.research.google.com/github/Dakbuu/dak/blob/main/GAN%20%EC%97%B0%EC%8A%B5.ipynb\" target=\"_parent\"><img src=\"https://colab.research.google.com/assets/colab-badge.svg\" alt=\"Open In Colab\"/></a>"
      ]
    },
    {
      "cell_type": "code",
      "execution_count": 2,
      "metadata": {
        "colab": {
          "base_uri": "https://localhost:8080/"
        },
        "id": "-UELsLqXM9GU",
        "outputId": "14d83c4a-d4ad-4289-c079-eed8545e57a7"
      },
      "outputs": [
        {
          "output_type": "stream",
          "name": "stdout",
          "text": [
            "(60000, 28, 28) (10000, 28, 28)\n"
          ]
        }
      ],
      "source": [
        "import numpy as np\n",
        "import matplotlib.pyplot as plt\n",
        "from keras.datasets import mnist\n",
        "\n",
        "(x_train, t_train), (x_test, t_test) = mnist.load_data() #MNIST 읽어 들이기\n",
        "print(x_train.shape, x_test.shape) #28x28의 손으로 쓴 문자 이미지가 6만 장 "
      ]
    },
    {
      "cell_type": "code",
      "source": [
        "#각 픽셀의 값을 -1에서 1의 범위에 넣는다 \n",
        "x_train = x_train / 255 * 2 - 1\n",
        "x_test = x_test / 255 * 2 - 1\n",
        "\n",
        "#손으로 쓴 문자 이미지의 표시"
      ],
      "metadata": {
        "id": "jt0maEGaRJKQ"
      },
      "execution_count": 3,
      "outputs": []
    },
    {
      "cell_type": "code",
      "source": [
        "plt.imshow(x_train[0].reshape(28, 28), cmap=\"gray\")\n",
        "plt.title(t_train[0])\n",
        "plt.show()\n",
        "\n",
        "#1차원으로 변환한다\n",
        "x_train = x_train.reshape(x_train.shape[0], -1)\n",
        "x_test = x_test.reshape(x_test.shape[0], -1)\n",
        "print(x_train.shape, x_test.shape)"
      ],
      "metadata": {
        "colab": {
          "base_uri": "https://localhost:8080/",
          "height": 470
        },
        "id": "iClRyO0PRJnf",
        "outputId": "b00dae94-c574-45db-e33f-da5cb6efa0a5"
      },
      "execution_count": 8,
      "outputs": [
        {
          "output_type": "display_data",
          "data": {
            "text/plain": [
              "<Figure size 640x480 with 1 Axes>"
            ],
            "image/png": "[encoded data removed]"
          },
          "metadata": {}
        },
        {
          "output_type": "stream",
          "name": "stdout",
          "text": [
            "(60000, 784) (10000, 784)\n"
          ]
        }
      ]
    },
    {
      "cell_type": "code",
      "source": [
        "n_learn = 20001 #학습 횟수 \n",
        "interval = 2000 #이미지를 생성하는 간격 \n",
        "batch_size = 32\n",
        "n_noize = 128 #노이즈의 수 \n",
        "img_size = 28 #생성되는 이미지의 높이와 폭\n",
        "alpha = 0.2 #Leaky ReLU의 음의 영역에서의 기울기 \n",
        "\n",
        "from tensorflow.python.keras.optimizers import adam_v2\n",
        "optimizer = adam_v2.Adam(0.08, 0.5)"
      ],
      "metadata": {
        "id": "wLz_PzUcRJp3"
      },
      "execution_count": 9,
      "outputs": []
    },
    {
      "cell_type": "code",
      "source": [
        "from tensorflow.python.keras.models import Sequential\n",
        "from tensorflow.python.keras.layers import Dense, LeakyReLU\n",
        "\n",
        "#Generator의 망 구축 \n",
        "generator = Sequential()\n",
        "generator.add(Dense(256, input_shape=(n_noize,)))\n",
        "generator.add(LeakyReLU(alpha=alpha))\n",
        "generator.add(Dense(512))\n",
        "generator.add(LeakyReLU(alpha=alpha))\n",
        "generator.add(Dense(1024))\n",
        "generator.add(LeakyReLU(alpha=alpha))\n",
        "generator.add(Dense(img_size**2, activation=\"tanh\"))\n",
        "print(generator.summary())"
      ],
      "metadata": {
        "colab": {
          "base_uri": "https://localhost:8080/"
        },
        "id": "UYWbImlpRJsQ",
        "outputId": "ddec111d-4458-4484-d56f-b48f3dd5d282"
      },
      "execution_count": 13,
      "outputs": [
        {
          "output_type": "stream",
          "name": "stdout",
          "text": [
            "Model: \"sequential_1\"\n",
            "_________________________________________________________________\n",
            "Layer (type)                 Output Shape              Param #   \n",
            "=================================================================\n",
            "dense_4 (Dense)              (None, 256)               33024     \n",
            "_________________________________________________________________\n",
            "leaky_re_lu_3 (LeakyReLU)    (None, 256)               0         \n",
            "_________________________________________________________________\n",
            "dense_5 (Dense)              (None, 512)               131584    \n",
            "_________________________________________________________________\n",
            "leaky_re_lu_4 (LeakyReLU)    (None, 512)               0         \n",
            "_________________________________________________________________\n",
            "dense_6 (Dense)              (None, 1024)              525312    \n",
            "_________________________________________________________________\n",
            "leaky_re_lu_5 (LeakyReLU)    (None, 1024)              0         \n",
            "_________________________________________________________________\n",
            "dense_7 (Dense)              (None, 784)               803600    \n",
            "=================================================================\n",
            "Total params: 1,493,520\n",
            "Trainable params: 1,493,520\n",
            "Non-trainable params: 0\n",
            "_________________________________________________________________\n",
            "None\n"
          ]
        }
      ]
    },
    {
      "cell_type": "code",
      "source": [
        "#Discriminator의 망 구축\n",
        "discriminator = Sequential()"
      ],
      "metadata": {
        "id": "M0QthwxDdW2o"
      },
      "execution_count": 23,
      "outputs": []
    },
    {
      "cell_type": "code",
      "source": [
        "discriminator.add(Dense(512, input_shape=(img_size**2,)))\n",
        "discriminator.add(LeakyReLU(alpha=alpha))\n",
        "discriminator.add(Dense(256))\n",
        "discriminator.add(LeakyReLU(alpha=alpha))\n",
        "discriminator.add(Dense(1, activation=\"sigmoid\"))\n",
        "discriminator.compile(loss=\"binary_crossentropy\", optimizer=optimizer, metrics=[\"accuracy\"])\n",
        "print(discriminator.summary())"
      ],
      "metadata": {
        "colab": {
          "base_uri": "https://localhost:8080/"
        },
        "id": "eF2iQwltRJuf",
        "outputId": "79148f15-6d38-4511-e3ef-707bab16c8bd"
      },
      "execution_count": 26,
      "outputs": [
        {
          "output_type": "stream",
          "name": "stdout",
          "text": [
            "Model: \"sequential_5\"\n",
            "_________________________________________________________________\n",
            "Layer (type)                 Output Shape              Param #   \n",
            "=================================================================\n",
            "dense_29 (Dense)             (None, 512)               401920    \n",
            "_________________________________________________________________\n",
            "leaky_re_lu_20 (LeakyReLU)   (None, 512)               0         \n",
            "_________________________________________________________________\n",
            "dense_30 (Dense)             (None, 256)               131328    \n",
            "_________________________________________________________________\n",
            "leaky_re_lu_21 (LeakyReLU)   (None, 256)               0         \n",
            "_________________________________________________________________\n",
            "dense_31 (Dense)             (None, 1)                 257       \n",
            "_________________________________________________________________\n",
            "dense_32 (Dense)             (None, 512)               1024      \n",
            "_________________________________________________________________\n",
            "leaky_re_lu_22 (LeakyReLU)   (None, 512)               0         \n",
            "_________________________________________________________________\n",
            "dense_33 (Dense)             (None, 256)               131328    \n",
            "_________________________________________________________________\n",
            "leaky_re_lu_23 (LeakyReLU)   (None, 256)               0         \n",
            "_________________________________________________________________\n",
            "dense_34 (Dense)             (None, 1)                 257       \n",
            "_________________________________________________________________\n",
            "dense_35 (Dense)             (None, 512)               1024      \n",
            "_________________________________________________________________\n",
            "leaky_re_lu_24 (LeakyReLU)   (None, 512)               0         \n",
            "_________________________________________________________________\n",
            "dense_36 (Dense)             (None, 256)               131328    \n",
            "_________________________________________________________________\n",
            "leaky_re_lu_25 (LeakyReLU)   (None, 256)               0         \n",
            "_________________________________________________________________\n",
            "dense_37 (Dense)             (None, 1)                 257       \n",
            "=================================================================\n",
            "Total params: 798,723\n",
            "Trainable params: 798,723\n",
            "Non-trainable params: 0\n",
            "_________________________________________________________________\n",
            "None\n"
          ]
        }
      ]
    },
    {
      "cell_type": "code",
      "source": [
        "from tensorflow.python.keras.models\n",
        "from tensorflow.python.keras.layers import Input"
      ],
      "metadata": {
        "id": "zCL_SGllRJwn"
      },
      "execution_count": null,
      "outputs": []
    },
    {
      "cell_type": "code",
      "source": [],
      "metadata": {
        "id": "KKCSHpLARJyw"
      },
      "execution_count": null,
      "outputs": []
    }
  ]
}