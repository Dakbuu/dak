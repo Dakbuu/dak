{
  "nbformat": 4,
  "nbformat_minor": 0,
  "metadata": {
    "colab": {
      "provenance": [],
      "authorship_tag": "ABX9TyPJYUkLKGQC/F47q7ihSsbM",
      "include_colab_link": true
    },
    "kernelspec": {
      "name": "python3",
      "display_name": "Python 3"
    },
    "language_info": {
      "name": "python"
    },
    "accelerator": "GPU",
    "gpuClass": "standard"
  },
  "cells": [
    {
      "cell_type": "markdown",
      "metadata": {
        "id": "view-in-github",
        "colab_type": "text"
      },
      "source": [
        "<a href=\"https://colab.research.google.com/github/Dakbuu/dak/blob/main/Untitled2.ipynb\" target=\"_parent\"><img src=\"https://colab.research.google.com/assets/colab-badge.svg\" alt=\"Open In Colab\"/></a>"
      ]
    },
    {
      "cell_type": "code",
      "execution_count": null,
      "metadata": {
        "id": "09ovYairfbcR"
      },
      "outputs": [],
      "source": [
        "import numpy as np\n",
        "import matplotlib.pyplot as plt\n",
        "\n",
        "x_data = np.linspace(-2*np.pi, 2*np.pi)\n",
        "sin_data = np.sin(x_data) +0.1*np.random.random(len(x_data))\n",
        "\n",
        "plt.plot(x_data, sin_data)\n",
        "plt.show()\n",
        "\n",
        "n_rnn = 10\n",
        "n_sample = len(x_data)-n_rnn\n",
        "x = np.zeros((n_sample, n_rnn))\n",
        "t = np.zeros((n_sample, n_rnn))\n",
        "for i in range(0, n_sample):\n",
        "    x[i] = sin_data[i:i+n_rnn]\n",
        "    \n",
        "    "
      ]
    },
    {
      "cell_type": "code",
      "source": [
        "from tensorflow.keras.models import Sequential\n",
        "from tensorflow.keras.layers import Dense, SimpleRNN\n",
        "\n",
        "n_in = 1\n",
        "n_mid = 20\n",
        "n_out = 1 \n",
        "\n",
        "model = Sequential()\n",
        "model.add(SimpleRNN(n_mid, input_shape=(n_rnn,n_in),return_sequences=True))\n",
        "model.add(Dense(n_out, activation = \"linear\"))\n",
        "model.compile(loss=\"mean_squared_error\", optimizer=\"sgd\")\n",
        "print (model.summary())\n",
        "\n",
        "history = model.fit(x, t, epochs=20, batch_size=8, validation_split=0.1)\n",
        "\n",
        "loss = history.history['loss']\n",
        "vloss = history.history['val_loss']\n",
        "\n",
        "plt.plot(np.arange(len(loss)), loss)\n",
        "plt.plot(np.arange(len(vloss)), vloss)\n",
        "plt.show()\n"
      ],
      "metadata": {
        "id": "h8QfgbRXxXYw"
      },
      "execution_count": null,
      "outputs": []
    },
    {
      "cell_type": "code",
      "source": [
        "predicted = x[0].reshape(-1)\n",
        "\n",
        "for i in range(0, n_sample):\n",
        "    y = model.predict(predicted[-n_rnn:].reshape(1, n_rnn, 1))\n",
        "    predicted = np.append(predicted, y[0][n_rnn-1][0])\n",
        "    plt.plot(np.arange(len(sin_data)), sin_data, label= \"Training data\")\n",
        "    plt.plot(np.arange(len(predicted)), predicted, label=\"predicted\") \n",
        "    plt.legend()\n",
        "    plt.show()"
      ],
      "metadata": {
        "id": "1xRzfhYj1IDS"
      },
      "execution_count": null,
      "outputs": []
    }
  ]
}